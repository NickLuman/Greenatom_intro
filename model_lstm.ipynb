{
 "cells": [
  {
   "cell_type": "code",
   "execution_count": 3,
   "metadata": {},
   "outputs": [],
   "source": [
    "import numpy as np  \n",
    "import pandas as pd\n",
    "import os\n",
    "import re\n",
    "from random import shuffle\n",
    "from keras.preprocessing import sequence"
   ]
  },
  {
   "cell_type": "code",
   "execution_count": 4,
   "metadata": {},
   "outputs": [],
   "source": [
    "def text_cleaner(text):\n",
    "    text = text.lower()\n",
    "    text = re.sub(r\"[.,\\\")(>+<*/]\", \" \", text)\n",
    "    text = re.sub(r\"[']\", \"\", text)\n",
    "    text = re.sub(r\"[!]\", \" !\", text)\n",
    "    return re.sub(r\"[?]\", \" ?\", text)\n",
    "\n",
    "def rate_cleaner(rate):\n",
    "    if int(rate[rate.index('_') + 1 : rate.index('.')]) >= 6:\n",
    "        return 1\n",
    "    else: \n",
    "        return 0\n",
    "\n",
    "def text_transformer(text, vocabulary):\n",
    "    cleaned_text = text_cleaner(text).split()\n",
    "    for word in range(len(cleaned_text)):\n",
    "        cleaned_text[word] = vocabulary[cleaned_text[word]] if vocabulary.get(cleaned_text[word]) != None else 0\n",
    "    return cleaned_text\n",
    "\n",
    "def file_reader(dir_name, vocabulary):\n",
    "    vector = []\n",
    "    rate = []\n",
    "    \n",
    "    for name in os.listdir(dir_name):\n",
    "        if name != '.ipynb_checkpoints':\n",
    "            with open(os.path.join(dir_name, name), 'r') as file:\n",
    "                rate.append(rate_cleaner(name))\n",
    "                text = file.read()\n",
    "                vector.append(text_transformer(text, vocabulary))\n",
    "            \n",
    "    return vector, rate\n",
    "\n",
    "def pad_sequences(arr, maxlen):\n",
    "    for i in range(len(arr)):\n",
    "        if len(arr[i]) < maxlen: \n",
    "            arr[i] += [0 for x in range(maxlen - len(arr[i]))]\n",
    "        elif len(arr[i]) > maxlen:\n",
    "            arr[i] = arr[i][:maxlen] \n",
    "        arr[i] = np.array(arr[i])\n",
    "    return arr"
   ]
  },
  {
   "cell_type": "code",
   "execution_count": 5,
   "metadata": {},
   "outputs": [],
   "source": [
    "vocabulary_numbs = {}\n",
    "\n",
    "number = 1\n",
    "\n",
    "with open('imdb.vocab', 'r') as file_handler:\n",
    "    for word in file_handler:\n",
    "        vocabulary_numbs[word.strip()] = number\n",
    "        number += 1\n",
    "        \n",
    "vector_neg_train, rate_neg_train = file_reader('neg_train', vocabulary_numbs)\n",
    "vector_pos_train, rate_pos_train = file_reader('pos_train', vocabulary_numbs)\n",
    "vector_neg_test, rate_neg_test = file_reader('neg_test', vocabulary_numbs)\n",
    "vector_pos_test, rate_pos_test = file_reader('pos_test', vocabulary_numbs)\n",
    "\n",
    "x_train, y_train = vector_neg_train + vector_pos_train, rate_neg_train + rate_pos_train\n",
    "x_test, y_test = vector_neg_test + vector_pos_test, rate_neg_test + rate_pos_test\n",
    "\n",
    "train = pd.DataFrame({'X': x_train, 'y' : y_train}).sample(frac=1)\n",
    "test = pd.DataFrame({'X': x_test, 'y': y_test}).sample(frac=1)"
   ]
  },
  {
   "cell_type": "code",
   "execution_count": 6,
   "metadata": {},
   "outputs": [],
   "source": [
    "x_train, y_train = np.array(train.X), np.array(train.y)\n",
    "x_test, y_test = np.array(test.X), np.array(test.y)\n",
    "\n",
    "max_review_length = 300\n",
    "x_train = sequence.pad_sequences(x_train, maxlen=max_review_length)\n",
    "x_test = sequence.pad_sequences(x_test, maxlen=max_review_length)"
   ]
  },
  {
   "cell_type": "code",
   "execution_count": 7,
   "metadata": {},
   "outputs": [
    {
     "name": "stderr",
     "output_type": "stream",
     "text": [
      "WARNING: Logging before flag parsing goes to stderr.\n",
      "W0707 09:46:16.187560 139762823333696 deprecation_wrapper.py:119] From /home/nilu/anaconda3/lib/python3.7/site-packages/keras/backend/tensorflow_backend.py:74: The name tf.get_default_graph is deprecated. Please use tf.compat.v1.get_default_graph instead.\n",
      "\n",
      "W0707 09:46:16.247179 139762823333696 deprecation_wrapper.py:119] From /home/nilu/anaconda3/lib/python3.7/site-packages/keras/backend/tensorflow_backend.py:517: The name tf.placeholder is deprecated. Please use tf.compat.v1.placeholder instead.\n",
      "\n",
      "W0707 09:46:16.256768 139762823333696 deprecation_wrapper.py:119] From /home/nilu/anaconda3/lib/python3.7/site-packages/keras/backend/tensorflow_backend.py:4138: The name tf.random_uniform is deprecated. Please use tf.random.uniform instead.\n",
      "\n",
      "W0707 09:46:16.323175 139762823333696 deprecation_wrapper.py:119] From /home/nilu/anaconda3/lib/python3.7/site-packages/keras/backend/tensorflow_backend.py:3976: The name tf.nn.max_pool is deprecated. Please use tf.nn.max_pool2d instead.\n",
      "\n",
      "W0707 09:46:16.653938 139762823333696 deprecation_wrapper.py:119] From /home/nilu/anaconda3/lib/python3.7/site-packages/keras/optimizers.py:790: The name tf.train.Optimizer is deprecated. Please use tf.compat.v1.train.Optimizer instead.\n",
      "\n",
      "W0707 09:46:16.681206 139762823333696 deprecation_wrapper.py:119] From /home/nilu/anaconda3/lib/python3.7/site-packages/keras/backend/tensorflow_backend.py:3376: The name tf.log is deprecated. Please use tf.math.log instead.\n",
      "\n",
      "W0707 09:46:16.687825 139762823333696 deprecation.py:323] From /home/nilu/anaconda3/lib/python3.7/site-packages/tensorflow/python/ops/nn_impl.py:180: add_dispatch_support.<locals>.wrapper (from tensorflow.python.ops.array_ops) is deprecated and will be removed in a future version.\n",
      "Instructions for updating:\n",
      "Use tf.where in 2.0, which has the same broadcast rule as np.where\n"
     ]
    },
    {
     "name": "stdout",
     "output_type": "stream",
     "text": [
      "_________________________________________________________________\n",
      "Layer (type)                 Output Shape              Param #   \n",
      "=================================================================\n",
      "embedding_1 (Embedding)      (None, 300, 32)           2880000   \n",
      "_________________________________________________________________\n",
      "conv1d_1 (Conv1D)            (None, 300, 32)           3104      \n",
      "_________________________________________________________________\n",
      "max_pooling1d_1 (MaxPooling1 (None, 150, 32)           0         \n",
      "_________________________________________________________________\n",
      "lstm_1 (LSTM)                (None, 100)               53200     \n",
      "_________________________________________________________________\n",
      "dense_1 (Dense)              (None, 1)                 101       \n",
      "=================================================================\n",
      "Total params: 2,936,405\n",
      "Trainable params: 2,936,405\n",
      "Non-trainable params: 0\n",
      "_________________________________________________________________\n",
      "None\n"
     ]
    }
   ],
   "source": [
    "from keras.models import Sequential\n",
    "from keras.layers import Dense, LSTM, Conv1D, MaxPooling1D\n",
    "from keras.layers.embeddings import Embedding\n",
    "from keras.layers import Flatten\n",
    "\n",
    "top_words = 90000\n",
    "embedding_vector_length = 32\n",
    "model = Sequential()\n",
    "model.add(Embedding(top_words, embedding_vector_length, input_length=max_review_length))\n",
    "model.add(Conv1D(filters=32,kernel_size=3, padding='same', activation='relu'))\n",
    "model.add(MaxPooling1D(pool_size=2))\n",
    "model.add(LSTM(100))\n",
    "model.add(Dense(1, activation='sigmoid'))\n",
    "model.compile(loss='binary_crossentropy',optimizer='adam', metrics=['accuracy'])\n",
    "print(model.summary())"
   ]
  },
  {
   "cell_type": "code",
   "execution_count": 8,
   "metadata": {},
   "outputs": [
    {
     "name": "stderr",
     "output_type": "stream",
     "text": [
      "W0707 09:46:17.739471 139762823333696 deprecation_wrapper.py:119] From /home/nilu/anaconda3/lib/python3.7/site-packages/keras/backend/tensorflow_backend.py:986: The name tf.assign_add is deprecated. Please use tf.compat.v1.assign_add instead.\n",
      "\n"
     ]
    },
    {
     "name": "stdout",
     "output_type": "stream",
     "text": [
      "Train on 25000 samples, validate on 25000 samples\n",
      "Epoch 1/2\n",
      "25000/25000 [==============================] - 117s 5ms/step - loss: 0.4627 - acc: 0.7576 - val_loss: 0.3003 - val_acc: 0.8739\n",
      "Epoch 2/2\n",
      "25000/25000 [==============================] - 100s 4ms/step - loss: 0.2033 - acc: 0.9265 - val_loss: 0.3480 - val_acc: 0.8595\n"
     ]
    }
   ],
   "source": [
    "hist = model.fit(x_train, y_train, validation_data=(x_test, y_test), epochs=2, batch_size=100)"
   ]
  },
  {
   "cell_type": "code",
   "execution_count": 10,
   "metadata": {},
   "outputs": [
    {
     "data": {
      "text/plain": [
       "[]"
      ]
     },
     "execution_count": 10,
     "metadata": {},
     "output_type": "execute_result"
    },
    {
     "data": {
      "image/png": "[encoded data removed]",
      "text/plain": [
       "<Figure size 432x288 with 1 Axes>"
      ]
     },
     "metadata": {},
     "output_type": "display_data"
    }
   ],
   "source": [
    "import seaborn as sns\n",
    "import matplotlib.pyplot as plt\n",
    "%matplotlib inline\n",
    "\n",
    "sns.set()\n",
    "acc = hist.history['acc']\n",
    "val = hist.history['val_acc']\n",
    "epochs = range(1, len(acc) + 1)\n",
    "\n",
    "plt.plot(epochs, acc, '-', label='Training accuracy')\n",
    "plt.plot(epochs, val, ':', label='Validation accuracy')\n",
    "plt.title('Training and Validation Accuracy')\n",
    "plt.xlabel('Epoch')\n",
    "plt.ylabel('Accuracy')\n",
    "plt.legend(loc='upper left')\n",
    "plt.plot()"
   ]
  },
  {
   "cell_type": "code",
   "execution_count": 11,
   "metadata": {},
   "outputs": [],
   "source": [
    "model_json = model.to_json()\n",
    "with open(\"model_ltsm.json\", \"w\") as json_file:\n",
    "    json_file.write(model_json)\n",
    "\n",
    "model.save_weights(\"model_ltsm.h5\")"
   ]
  },
  {
   "cell_type": "code",
   "execution_count": 13,
   "metadata": {},
   "outputs": [],
   "source": [
    "from keras.models import model_from_json"
   ]
  },
  {
   "cell_type": "code",
   "execution_count": 15,
   "metadata": {},
   "outputs": [],
   "source": [
    "json_file = open('model_sem.json', 'r')\n",
    "loaded_model_json = json_file.read()\n",
    "json_file.close()\n",
    "loaded_model = model_from_json(loaded_model_json)\n",
    "loaded_model.load_weights(\"model_sem.h5\")"
   ]
  },
  {
   "cell_type": "code",
   "execution_count": 65,
   "metadata": {},
   "outputs": [
    {
     "name": "stdout",
     "output_type": "stream",
     "text": [
      "acc: 82.96%\n"
     ]
    }
   ],
   "source": [
    "loaded_model.compile(loss='binary_crossentropy', optimizer='rmsprop', metrics=['accuracy'])\n",
    "score = loaded_model.evaluate(x_test_t, y_test, verbose=0)\n",
    "print(\"%s: %.2f%%\" % (loaded_model.metrics_names[1], score[1]*100))"
   ]
  },
  {
   "cell_type": "code",
   "execution_count": null,
   "metadata": {},
   "outputs": [],
   "source": []
  }
 ],
 "metadata": {
  "kernelspec": {
   "display_name": "Python 3",
   "language": "python",
   "name": "python3"
  },
  "language_info": {
   "codemirror_mode": {
    "name": "ipython",
    "version": 3
   },
   "file_extension": ".py",
   "mimetype": "text/x-python",
   "name": "python",
   "nbconvert_exporter": "python",
   "pygments_lexer": "ipython3",
   "version": "3.7.3"
  }
 },
 "nbformat": 4,
 "nbformat_minor": 2
}
