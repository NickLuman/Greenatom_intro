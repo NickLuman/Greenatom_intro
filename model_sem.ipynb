{
 "cells": [
  {
   "cell_type": "code",
   "execution_count": 92,
   "metadata": {},
   "outputs": [],
   "source": [
    "import numpy as np  \n",
    "import pandas as pd\n",
    "import os\n",
    "import re\n",
    "from random import shuffle"
   ]
  },
  {
   "cell_type": "code",
   "execution_count": 93,
   "metadata": {},
   "outputs": [],
   "source": [
    "def text_cleaner(text):\n",
    "    text = text.lower()\n",
    "    text = re.sub(r\"[.,\\\")(>+<*/]\", \" \", text)\n",
    "    text = re.sub(r\"[']\", \"\", text)\n",
    "    text = re.sub(r\"[!]\", \" !\", text)\n",
    "    return re.sub(r\"[?]\", \" ?\", text)\n",
    "\n",
    "def rate_cleaner(rate):\n",
    "    if int(rate[rate.index('_') + 1 : rate.index('.')]) >= 6:\n",
    "        return 1\n",
    "    else: \n",
    "        return 0\n",
    "\n",
    "def text_transformer(text, vocabulary):\n",
    "    cleaned_text = text_cleaner(text).split()\n",
    "    for word in range(len(cleaned_text)):\n",
    "        cleaned_text[word] = vocabulary[cleaned_text[word]] if vocabulary.get(cleaned_text[word]) != None else 0\n",
    "    return cleaned_text\n",
    "\n",
    "def file_reader(dir_name, vocabulary):\n",
    "    vector = []\n",
    "    rate = []\n",
    "    \n",
    "    for name in os.listdir(dir_name):\n",
    "        if name != '.ipynb_checkpoints':\n",
    "            with open(os.path.join(dir_name, name), 'r') as file:\n",
    "                rate.append(rate_cleaner(name))\n",
    "                text = file.read()\n",
    "                vector.append(text_transformer(text, vocabulary))\n",
    "            \n",
    "    return vector, rate\n",
    "\n",
    "def pad_sequences(arr, maxlen):\n",
    "    for i in range(len(arr)):\n",
    "        if len(arr[i]) < maxlen: \n",
    "            arr[i] += [0 for x in range(maxlen - len(arr[i]))]\n",
    "        elif len(arr[i]) > maxlen:\n",
    "            arr[i] = arr[i][:maxlen] \n",
    "        arr[i] = np.array(arr[i])\n",
    "    return arr"
   ]
  },
  {
   "cell_type": "code",
   "execution_count": 94,
   "metadata": {},
   "outputs": [],
   "source": [
    "vocabulary = []\n",
    "expected_rating = []\n",
    "\n",
    "with open('imdb.vocab', 'r') as file_handler:\n",
    "    vocabulary = file_handler.read().splitlines()\n",
    "    \n",
    "with open('imdbEr.txt', 'r') as file_handler:\n",
    "    expected_rating = list(map(float, file_handler.read().splitlines()))\n",
    "    \n",
    "vocab_Er = dict(zip(vocabulary, expected_rating))\n",
    "\n",
    "vector_neg_train, rate_neg_train = file_reader('neg_train', vocab_Er)\n",
    "vector_pos_train, rate_pos_train = file_reader('pos_train', vocab_Er)\n",
    "vector_neg_test, rate_neg_test = file_reader('neg_test', vocab_Er)\n",
    "vector_pos_test, rate_pos_test = file_reader('pos_test', vocab_Er)\n",
    "\n",
    "x_train, y_train = vector_neg_train + vector_pos_train, rate_neg_train + rate_pos_train\n",
    "x_test, y_test = vector_neg_test + vector_pos_test, rate_neg_test + rate_pos_test\n",
    "\n",
    "train = pd.DataFrame({'X': x_train, 'y' : y_train}).sample(frac=1)\n",
    "test = pd.DataFrame({'X': x_test, 'y': y_test}).sample(frac=1)\n",
    "\n",
    "x_train, y_train = np.array(train.X), np.array(train.y)\n",
    "x_test, y_test = np.array(test.X), np.array(test.y)"
   ]
  },
  {
   "cell_type": "code",
   "execution_count": 95,
   "metadata": {},
   "outputs": [],
   "source": [
    "x_train, y_train = np.array(train.X), np.array(train.y)\n",
    "x_test, y_test = np.array(test.X), np.array(test.y)\n",
    "\n",
    "avg_length = 375\n",
    "\n",
    "x_train = pad_sequences(x_train, maxlen=avg_length)\n",
    "x_test = pad_sequences(x_test, maxlen=avg_length)\n",
    "\n",
    "x_train_t = []\n",
    "\n",
    "for i in x_train:\n",
    "    x_train_t.append(i)\n",
    "\n",
    "x_train_t = np.array(x_train_t)\n",
    "\n",
    "x_test_t = []\n",
    "\n",
    "for i in x_test:\n",
    "    x_test_t.append(i)\n",
    "    \n",
    "x_test_t = np.array(x_test_t)"
   ]
  },
  {
   "cell_type": "code",
   "execution_count": 96,
   "metadata": {},
   "outputs": [
    {
     "name": "stdout",
     "output_type": "stream",
     "text": [
      "_________________________________________________________________\n",
      "Layer (type)                 Output Shape              Param #   \n",
      "=================================================================\n",
      "dense_19 (Dense)             (None, 375)               141000    \n",
      "_________________________________________________________________\n",
      "dense_20 (Dense)             (None, 50)                18800     \n",
      "_________________________________________________________________\n",
      "dropout_10 (Dropout)         (None, 50)                0         \n",
      "_________________________________________________________________\n",
      "dense_21 (Dense)             (None, 50)                2550      \n",
      "_________________________________________________________________\n",
      "dropout_11 (Dropout)         (None, 50)                0         \n",
      "_________________________________________________________________\n",
      "dense_22 (Dense)             (None, 50)                2550      \n",
      "_________________________________________________________________\n",
      "dropout_12 (Dropout)         (None, 50)                0         \n",
      "_________________________________________________________________\n",
      "dense_23 (Dense)             (None, 50)                2550      \n",
      "_________________________________________________________________\n",
      "dense_24 (Dense)             (None, 1)                 51        \n",
      "=================================================================\n",
      "Total params: 167,501\n",
      "Trainable params: 167,501\n",
      "Non-trainable params: 0\n",
      "_________________________________________________________________\n"
     ]
    }
   ],
   "source": [
    "from keras.models import Sequential\n",
    "from keras.layers import Dense, Dropout\n",
    "\n",
    "model = Sequential()\n",
    "\n",
    "model.add(Dense(avg_length, activation = \"relu\", input_shape=(avg_length, )))\n",
    "model.add(Dense(50, activation = \"relu\"))\n",
    "model.add(Dropout(0.3, noise_shape=None, seed=None))\n",
    "model.add(Dense(50, activation = \"relu\"))\n",
    "model.add(Dropout(0.2, noise_shape=None, seed=None))\n",
    "model.add(Dense(50, activation = \"relu\"))\n",
    "model.add(Dropout(0.1, noise_shape=None, seed=None))\n",
    "model.add(Dense(50, activation = \"relu\"))\n",
    "model.add(Dense(1, activation = \"sigmoid\"))\n",
    "model.summary()\n",
    "\n",
    "model.compile( optimizer = \"Adam\", loss = \"binary_crossentropy\", metrics = [\"accuracy\"])"
   ]
  },
  {
   "cell_type": "code",
   "execution_count": 97,
   "metadata": {},
   "outputs": [
    {
     "name": "stdout",
     "output_type": "stream",
     "text": [
      "Train on 25000 samples, validate on 25000 samples\n",
      "Epoch 1/2\n",
      "25000/25000 [==============================] - 4s 159us/step - loss: 0.4282 - acc: 0.8157 - val_loss: 0.4042 - val_acc: 0.8283\n",
      "Epoch 2/2\n",
      "25000/25000 [==============================] - 3s 138us/step - loss: 0.3652 - acc: 0.8493 - val_loss: 0.3949 - val_acc: 0.8306\n"
     ]
    }
   ],
   "source": [
    "hist = model.fit(x_train_t, \n",
    "                 y_train, \n",
    "                 validation_data=(x_test_t, y_test), \n",
    "                 epochs=2, \n",
    "                 batch_size=100\n",
    ")"
   ]
  },
  {
   "cell_type": "code",
   "execution_count": 15,
   "metadata": {},
   "outputs": [
    {
     "data": {
      "text/plain": [
       "[]"
      ]
     },
     "execution_count": 15,
     "metadata": {},
     "output_type": "execute_result"
    },
    {
     "data": {
      "image/png": "[encoded data removed]",
      "text/plain": [
       "<Figure size 432x288 with 1 Axes>"
      ]
     },
     "metadata": {},
     "output_type": "display_data"
    }
   ],
   "source": [
    "import seaborn as sns\n",
    "import matplotlib.pyplot as plt\n",
    "%matplotlib inline\n",
    "\n",
    "sns.set()\n",
    "acc = hist.history['acc']\n",
    "val = hist.history['val_acc']\n",
    "epochs = range(1, len(acc) + 1)\n",
    "\n",
    "plt.plot(epochs, acc, '-', label='Training accuracy')\n",
    "plt.plot(epochs, val, ':', label='Validation accuracy')\n",
    "plt.title('Training and Validation Accuracy')\n",
    "plt.xlabel('Epoch')\n",
    "plt.ylabel('Accuracy')\n",
    "plt.legend(loc='upper left')\n",
    "plt.plot()"
   ]
  },
  {
   "cell_type": "markdown",
   "metadata": {},
   "source": [
    "* avg_len = 235 - the best = 0.8223\n",
    "* avg_len = 300 - the best = 0.8267\n",
    "* avg_len = 350 - the best = 0.8285\n",
    "* avg_len = 375 - the best = 0.8302\n",
    "* avg_len = 400 - the best = 0.8274"
   ]
  },
  {
   "cell_type": "code",
   "execution_count": 98,
   "metadata": {},
   "outputs": [],
   "source": [
    "model_json = model.to_json()\n",
    "with open(\"model.json\", \"w\") as json_file:\n",
    "    json_file.write(model_json)\n",
    "model.save_weights(\"model.h5\")"
   ]
  },
  {
   "cell_type": "code",
   "execution_count": 99,
   "metadata": {},
   "outputs": [],
   "source": [
    "from keras.models import model_from_json"
   ]
  },
  {
   "cell_type": "code",
   "execution_count": 100,
   "metadata": {},
   "outputs": [],
   "source": [
    "json_file = open('model.json', 'r')\n",
    "loaded_model_json = json_file.read()\n",
    "json_file.close()\n",
    "loaded_model = model_from_json(loaded_model_json)\n",
    "loaded_model.load_weights(\"model.h5\")"
   ]
  },
  {
   "cell_type": "code",
   "execution_count": 101,
   "metadata": {},
   "outputs": [
    {
     "name": "stdout",
     "output_type": "stream",
     "text": [
      "acc: 83.06%\n"
     ]
    }
   ],
   "source": [
    "loaded_model.compile(loss='binary_crossentropy', optimizer='rmsprop', metrics=['accuracy'])\n",
    "score = loaded_model.evaluate(x_test_t, y_test, verbose=0)\n",
    "print(\"%s: %.2f%%\" % (loaded_model.metrics_names[1], score[1]*100))"
   ]
  },
  {
   "cell_type": "code",
   "execution_count": 24,
   "metadata": {},
   "outputs": [],
   "source": [
    "def text_cleaner(text):\n",
    "    text = text.lower()\n",
    "    text = re.sub(r\"[.,\\\")(>+<*/]\", \" \", text)\n",
    "    text = re.sub(r\"[']\", \"\", text)\n",
    "    text = re.sub(r\"[!]\", \" !\", text)\n",
    "    return re.sub(r\"[?]\", \" ?\", text)\n",
    "\n",
    "def text_transformer(text, vocabulary):\n",
    "    cleaned_text = text_cleaner(text).split()\n",
    "    for word in range(len(cleaned_text)):\n",
    "        cleaned_text[word] = vocabulary[cleaned_text[word]] if vocabulary.get(cleaned_text[word]) != None else 0\n",
    "    return cleaned_text\n",
    "\n",
    "\n",
    "def load_model(filename_json, filename_weights):\n",
    "    loaded_model_json = None\n",
    "\n",
    "    with open(filename_json, 'r') as json_file:\n",
    "        loaded_model_json = json_file.read()\n",
    "\n",
    "    loaded_model = model_from_json(loaded_model_json)\n",
    "    loaded_model.load_weights(filename_weights)\n",
    "\n",
    "    return loaded_model\n",
    "\n",
    "def load_vocabulary_rate(vocab_words, vocab_rates):\n",
    "    vocabulary = []\n",
    "    expected_rating = []\n",
    "    \n",
    "    with open(vocab_words, 'r') as file_handler:\n",
    "        vocabulary = file_handler.read().splitlines()\n",
    "\n",
    "    with open(vocab_rates, 'r') as file_handler:\n",
    "        expected_rating = list(map(float, file_handler.read().splitlines()))\n",
    "\n",
    "    return dict(zip(vocabulary, expected_rating))\n",
    "\n",
    "def load_vocabulary_numbs(vocab_words):\n",
    "    vocabulary_numbs = {}\n",
    "    number = 1\n",
    "    \n",
    "    with open(vocab_words, 'r') as file_handler:\n",
    "        for word in file_handler:\n",
    "            vocabulary_numbs[word.strip()] = number\n",
    "            number += 1\n",
    "\n",
    "    return vocabulary_numbs\n",
    "\n",
    "def text_fitter(length, text):\n",
    "    if len(text) < length:\n",
    "        return np.array(list(text) + [0 for x in range(length-len(text))])\n",
    "    else:\n",
    "        return np.array(list(text)[:length])\n",
    "\n",
    "def file_reader(dir_name, vocabulary, length):\n",
    "    vector = []\n",
    "    rate = []\n",
    "    \n",
    "    for name in os.listdir(dir_name):\n",
    "        if name != '.ipynb_checkpoints':\n",
    "            with open(os.path.join(dir_name, name), 'r') as file:\n",
    "                rate.append(rate_cleaner(name))\n",
    "                text = file.read()\n",
    "                vector.append(text_fitter(length, text_transformer(text, vocabulary)))\n",
    "            \n",
    "    return vector, rate\n"
   ]
  },
  {
   "cell_type": "code",
   "execution_count": 21,
   "metadata": {},
   "outputs": [],
   "source": [
    "model_l = load_model('model_ltsm.json', 'model_ltsm.h5')\n",
    "model_s = load_model('model_sem.json', 'model_sem.h5')"
   ]
  },
  {
   "cell_type": "code",
   "execution_count": 79,
   "metadata": {},
   "outputs": [],
   "source": [
    "x_test_v_300, y_test_v_300 = file_reader('pos_test', load_vocabulary_numbs('imdb.vocab'), 300) "
   ]
  },
  {
   "cell_type": "code",
   "execution_count": 80,
   "metadata": {},
   "outputs": [],
   "source": [
    "x_test_v_375, y_test_v_375 = file_reader('pos_test', load_vocabulary_rate('imdb.vocab', 'imdbEr.txt'), 375) "
   ]
  },
  {
   "cell_type": "code",
   "execution_count": 81,
   "metadata": {},
   "outputs": [],
   "source": [
    "rates = []\n",
    "true = 0\n",
    "for i in range(len(x_test_v_300)):\n",
    "    model_l_prediction = model_l.predict(x_test_v_300[i].reshape(1, 300))[0][0]\n",
    "    model_s_prediction = model_s.predict(x_test_v_375[i].reshape(1, 375))[0][0]\n",
    "    \n",
    "    \n",
    "    rates.append(int(str(round((model_l_prediction+model_l_prediction)/2, 2))[2]))"
   ]
  },
  {
   "cell_type": "code",
   "execution_count": 82,
   "metadata": {},
   "outputs": [],
   "source": [
    "true = 0"
   ]
  },
  {
   "cell_type": "code",
   "execution_count": 83,
   "metadata": {},
   "outputs": [],
   "source": [
    "for i in rates:\n",
    "    if i >= 5:\n",
    "        true += 1"
   ]
  },
  {
   "cell_type": "code",
   "execution_count": 86,
   "metadata": {},
   "outputs": [
    {
     "name": "stdout",
     "output_type": "stream",
     "text": [
      "Accuracy: 87.7%\n"
     ]
    }
   ],
   "source": [
    "print(f\"Accuracy: {round(true/12500, 2) * 100}%\")"
   ]
  }
 ],
 "metadata": {
  "kernelspec": {
   "display_name": "Python 3",
   "language": "python",
   "name": "python3"
  },
  "language_info": {
   "codemirror_mode": {
    "name": "ipython",
    "version": 3
   },
   "file_extension": ".py",
   "mimetype": "text/x-python",
   "name": "python",
   "nbconvert_exporter": "python",
   "pygments_lexer": "ipython3",
   "version": "3.7.3"
  }
 },
 "nbformat": 4,
 "nbformat_minor": 2
}
